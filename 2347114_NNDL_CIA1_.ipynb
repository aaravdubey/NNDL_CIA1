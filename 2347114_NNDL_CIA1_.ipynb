{
  "nbformat": 4,
  "nbformat_minor": 0,
  "metadata": {
    "colab": {
      "provenance": [],
      "gpuType": "V28"
    },
    "kernelspec": {
      "name": "python3",
      "display_name": "Python 3"
    },
    "language_info": {
      "name": "python"
    },
    "accelerator": "TPU"
  },
  "cells": [
    {
      "cell_type": "code",
      "execution_count": null,
      "metadata": {
        "colab": {
          "base_uri": "https://localhost:8080/"
        },
        "id": "llrp91p-18bC",
        "outputId": "b7ccebd0-803f-4276-e0ed-e6e1f7024542"
      },
      "outputs": [
        {
          "output_type": "stream",
          "name": "stdout",
          "text": [
            "SLP Predictions for XOR gate:\n",
            "Input: [0 0] -> Output: 1\n",
            "Input: [0 1] -> Output: 1\n",
            "Input: [1 0] -> Output: 0\n",
            "Input: [1 1] -> Output: 0\n"
          ]
        }
      ],
      "source": [
        "# Q1. XOR gate Classification\n",
        "\n",
        "import numpy as np\n",
        "\n",
        "X = np.array([[0, 0], [0, 1], [1, 0], [1, 1]])\n",
        "y = np.array([0, 1, 1, 0])\n",
        "\n",
        "def initialize_weights(input_size):\n",
        "    return np.zeros(input_size + 1)  # +1 is for bias\n",
        "\n",
        "def activation(summation):\n",
        "    return 1 if summation >= 0 else 0\n",
        "\n",
        "def predict(inputs, weights):\n",
        "    summation = np.dot(inputs, weights[1:]) + weights[0]  # Weights[0] is bias\n",
        "    return activation(summation)\n",
        "\n",
        "def train(X, y, weights, learning_rate=0.1, epochs=100):\n",
        "    for _ in range(epochs):\n",
        "        for inputs, label in zip(X, y):\n",
        "            prediction = predict(inputs, weights)\n",
        "            error = label - prediction\n",
        "            weights[1:] += learning_rate * error * inputs\n",
        "            weights[0] += learning_rate * error\n",
        "    return weights\n",
        "\n",
        "weights = initialize_weights(input_size=2)\n",
        "\n",
        "weights = train(X, y, weights, learning_rate=0.1, epochs=100)\n",
        "\n",
        "print(\"SLP Predictions for XOR gate:\")\n",
        "for inputs in X:\n",
        "    print(f\"Input: {inputs} -> Output: {predict(inputs, weights)}\")\n"
      ]
    },
    {
      "cell_type": "code",
      "source": [
        "# Multi-Layer Perceptron (MLP) for XOR\n",
        "\n",
        "from sklearn.neural_network import MLPClassifier\n",
        "import matplotlib.pyplot as plt\n",
        "\n",
        "mlp = MLPClassifier(hidden_layer_sizes=(5,), activation='relu', solver='adam', max_iter=10000, learning_rate_init=0.01)\n",
        "\n",
        "mlp.fit(X, y)\n",
        "\n",
        "mlp_predictions = mlp.predict(X)\n",
        "\n",
        "print(\"\\nUpdated MLP Predictions for XOR gate:\")\n",
        "for inputs, prediction in zip(X, mlp_predictions):\n",
        "    print(f\"Input: {inputs} -> Output: {prediction}\")\n",
        "\n",
        "\n",
        "x_min, x_max = X[:, 0].min() - 1, X[:, 0].max() + 1\n",
        "y_min, y_max = X[:, 1].min() - 1, X[:, 1].max() + 1\n",
        "xx, yy = np.meshgrid(np.arange(x_min, x_max, 0.1),\n",
        "                     np.arange(y_min, y_max, 0.1))\n",
        "Z = mlp.predict(np.c_[xx.ravel(), yy.ravel()])\n",
        "Z = Z.reshape(xx.shape)\n",
        "plt.contourf(xx, yy, Z, alpha=0.8)\n",
        "plt.scatter(X[:, 0], X[:, 1], c=y, edgecolors='k', marker='o', s=100)\n",
        "plt.show()"
      ],
      "metadata": {
        "colab": {
          "base_uri": "https://localhost:8080/",
          "height": 539
        },
        "id": "zhIb6vMU2xnQ",
        "outputId": "30928a2e-abb0-4643-b9a1-42ef1c1797b2"
      },
      "execution_count": null,
      "outputs": [
        {
          "output_type": "stream",
          "name": "stdout",
          "text": [
            "\n",
            "Updated MLP Predictions for XOR gate:\n",
            "Input: [0 0] -> Output: 0\n",
            "Input: [0 1] -> Output: 1\n",
            "Input: [1 0] -> Output: 1\n",
            "Input: [1 1] -> Output: 0\n"
          ]
        },
        {
          "output_type": "display_data",
          "data": {
            "text/plain": [
              "<Figure size 640x480 with 1 Axes>"
            ],
            "image/png": "[encoded data removed]"
          },
          "metadata": {}
        }
      ]
    },
    {
      "cell_type": "code",
      "source": [
        "import numpy as np\n",
        "import matplotlib.pyplot as plt\n",
        "from sklearn.model_selection import train_test_split\n",
        "from sklearn.feature_extraction.text import TfidfVectorizer\n",
        "from sklearn.preprocessing import LabelEncoder\n",
        "import pandas as pd\n",
        "\n",
        "data = pd.read_csv('/content/Tweets - Tweets.csv')\n",
        "\n",
        "data_filtered = data[data['airline_sentiment'].isin(['positive', 'negative'])]\n",
        "\n",
        "texts = data_filtered['text'].values\n",
        "labels = data_filtered['airline_sentiment'].values\n",
        "\n",
        "label_encoder = LabelEncoder()\n",
        "labels = label_encoder.fit_transform(labels)  # positive = 1 & negative = 0\n",
        "\n",
        "vectorizer = TfidfVectorizer(stop_words='english', max_features=1000)\n",
        "X = vectorizer.fit_transform(texts).toarray()\n",
        "\n",
        "X_train, X_test, y_train, y_test = train_test_split(X, labels, test_size=0.2, random_state=42)\n",
        "\n"
      ],
      "metadata": {
        "id": "UET46soV5bn0"
      },
      "execution_count": null,
      "outputs": []
    },
    {
      "cell_type": "code",
      "source": [
        "# Activation functions\n",
        "def sigmoid(x):\n",
        "    return 1 / (1 + np.exp(-x))\n",
        "\n",
        "def sigmoid_derivative(x):\n",
        "    return sigmoid(x) * (1 - sigmoid(x))\n",
        "\n",
        "def relu(x):\n",
        "    return np.maximum(0, x)\n",
        "\n",
        "def relu_derivative(x):\n",
        "    return np.where(x > 0, 1, 0)\n",
        "\n",
        "def tanh(x):\n",
        "    return np.tanh(x)\n",
        "\n",
        "def tanh_derivative(x):\n",
        "    return 1 - np.tanh(x)**2\n",
        "\n",
        "def initialize_weights(input_size, hidden_size, output_size):\n",
        "    np.random.seed(42)\n",
        "    W1 = np.random.randn(input_size, hidden_size) * 0.01  # Input to hidden layer weights\n",
        "    b1 = np.zeros((1, hidden_size))  # Hidden layer bias\n",
        "    W2 = np.random.randn(hidden_size, output_size) * 0.01  # Hidden to output layer weights\n",
        "    b2 = np.zeros((1, output_size))  # Output layer bias\n",
        "    return W1, b1, W2, b2\n",
        "\n",
        "def forward_propagation(X, W1, b1, W2, b2, activation_function):\n",
        "    Z1 = np.dot(X, W1) + b1\n",
        "    if activation_function == 'sigmoid':\n",
        "        A1 = sigmoid(Z1)\n",
        "    elif activation_function == 'relu':\n",
        "        A1 = relu(Z1)\n",
        "    elif activation_function == 'tanh':\n",
        "        A1 = tanh(Z1)\n",
        "\n",
        "    Z2 = np.dot(A1, W2) + b2\n",
        "    A2 = sigmoid(Z2)\n",
        "    return Z1, A1, Z2, A2\n",
        "\n",
        "def backward_propagation(X, y, W1, b1, W2, b2, Z1, A1, A2, activation_function):\n",
        "    m = X.shape[0]\n",
        "    dZ2 = A2 - y.reshape(-1, 1)\n",
        "    dW2 = np.dot(A1.T, dZ2) / m\n",
        "    db2 = np.sum(dZ2, axis=0, keepdims=True) / m\n",
        "\n",
        "    if activation_function == 'sigmoid':\n",
        "        dA1 = np.dot(dZ2, W2.T) * sigmoid_derivative(Z1)\n",
        "    elif activation_function == 'relu':\n",
        "        dA1 = np.dot(dZ2, W2.T) * relu_derivative(Z1)\n",
        "    elif activation_function == 'tanh':\n",
        "        dA1 = np.dot(dZ2, W2.T) * tanh_derivative(Z1)\n",
        "\n",
        "    dW1 = np.dot(X.T, dA1) / m\n",
        "    db1 = np.sum(dA1, axis=0, keepdims=True) / m\n",
        "\n",
        "    return dW1, db1, dW2, db2\n",
        "\n",
        "def train_neural_network(X_train, y_train, hidden_size, epochs, learning_rate, activation_function):\n",
        "    input_size = X_train.shape[1]\n",
        "    output_size = 1  # Binary classification\n",
        "    W1, b1, W2, b2 = initialize_weights(input_size, hidden_size, output_size)\n",
        "\n",
        "    losses = []\n",
        "\n",
        "    for epoch in range(epochs):\n",
        "        Z1, A1, Z2, A2 = forward_propagation(X_train, W1, b1, W2, b2, activation_function)\n",
        "\n",
        "        m = y_train.shape[0]\n",
        "        loss = -np.mean(y_train * np.log(A2) + (1 - y_train) * np.log(1 - A2))\n",
        "        losses.append(loss)\n",
        "\n",
        "        dW1, db1, dW2, db2 = backward_propagation(X_train, y_train, W1, b1, W2, b2, Z1, A1, A2, activation_function)\n",
        "\n",
        "        W1 -= learning_rate * dW1\n",
        "        b1 -= learning_rate * db1\n",
        "        W2 -= learning_rate * dW2\n",
        "        b2 -= learning_rate * db2\n",
        "\n",
        "        if epoch % 100 == 0:\n",
        "            print(f\"Epoch {epoch}, Loss: {loss}\")\n",
        "\n",
        "    return W1, b1, W2, b2, losses\n",
        "\n",
        "def predict(X, W1, b1, W2, b2, activation_function):\n",
        "    _, _, _, A2 = forward_propagation(X, W1, b1, W2, b2, activation_function)\n",
        "    return (A2 > 0.5).astype(int)\n",
        "\n",
        "def evaluate_model(X_train, X_test, y_train, y_test, activation_functions):\n",
        "    results = {}\n",
        "\n",
        "    for activation_function in activation_functions:\n",
        "        print(f\"Training with {activation_function} activation function...\")\n",
        "        W1, b1, W2, b2, losses = train_neural_network(X_train, y_train, hidden_size=10, epochs=1000, learning_rate=0.01, activation_function=activation_function)\n",
        "\n",
        "        plt.plot(losses)\n",
        "        plt.title(f'Loss over Epochs ({activation_function})')\n",
        "        plt.xlabel('Epochs')\n",
        "        plt.ylabel('Loss')\n",
        "        plt.show()\n",
        "\n",
        "        y_pred = predict(X_test, W1, b1, W2, b2, activation_function)\n",
        "\n",
        "        accuracy = np.mean(y_pred.flatten() == y_test) * 100\n",
        "        print(f\"Test Accuracy with {activation_function} activation: {accuracy:.2f}%\\n\")\n",
        "        results[activation_function] = accuracy\n",
        "\n",
        "    return results\n"
      ],
      "metadata": {
        "id": "lJF3Wk7J6QN_"
      },
      "execution_count": 12,
      "outputs": []
    },
    {
      "cell_type": "code",
      "source": [
        "activation_functions = ['relu', 'sigmoid', 'tanh']\n",
        "\n",
        "results = evaluate_model(X_train, X_test, y_train, y_test, activation_functions)\n",
        "\n",
        "for activation_function, accuracy in results.items():\n",
        "    print(f\"Final Test Accuracy using {activation_function} activation: {accuracy:.2f}%\")"
      ],
      "metadata": {
        "colab": {
          "base_uri": "https://localhost:8080/",
          "height": 406
        },
        "id": "8Bgem2NVJuDZ",
        "outputId": "dc5a1ff4-e625-4228-fd70-f7278aa7c1e7"
      },
      "execution_count": 14,
      "outputs": [
        {
          "output_type": "stream",
          "name": "stdout",
          "text": [
            "Training with relu activation function...\n",
            "Epoch 0, Loss: 0.6931371497758132\n"
          ]
        },
        {
          "output_type": "error",
          "ename": "KeyboardInterrupt",
          "evalue": "",
          "traceback": [
            "\u001b[0;31m---------------------------------------------------------------------------\u001b[0m",
            "\u001b[0;31mKeyboardInterrupt\u001b[0m                         Traceback (most recent call last)",
            "\u001b[0;32m<ipython-input-14-bc81f568b487>\u001b[0m in \u001b[0;36m<cell line: 5>\u001b[0;34m()\u001b[0m\n\u001b[1;32m      3\u001b[0m \u001b[0;34m\u001b[0m\u001b[0m\n\u001b[1;32m      4\u001b[0m \u001b[0;31m# Evaluate models using different activation functions\u001b[0m\u001b[0;34m\u001b[0m\u001b[0;34m\u001b[0m\u001b[0m\n\u001b[0;32m----> 5\u001b[0;31m \u001b[0mresults\u001b[0m \u001b[0;34m=\u001b[0m \u001b[0mevaluate_model\u001b[0m\u001b[0;34m(\u001b[0m\u001b[0mX_train\u001b[0m\u001b[0;34m,\u001b[0m \u001b[0mX_test\u001b[0m\u001b[0;34m,\u001b[0m \u001b[0my_train\u001b[0m\u001b[0;34m,\u001b[0m \u001b[0my_test\u001b[0m\u001b[0;34m,\u001b[0m \u001b[0mactivation_functions\u001b[0m\u001b[0;34m)\u001b[0m\u001b[0;34m\u001b[0m\u001b[0;34m\u001b[0m\u001b[0m\n\u001b[0m\u001b[1;32m      6\u001b[0m \u001b[0;34m\u001b[0m\u001b[0m\n\u001b[1;32m      7\u001b[0m \u001b[0;31m# Print final results\u001b[0m\u001b[0;34m\u001b[0m\u001b[0;34m\u001b[0m\u001b[0m\n",
            "\u001b[0;32m<ipython-input-12-ea6849c4974b>\u001b[0m in \u001b[0;36mevaluate_model\u001b[0;34m(X_train, X_test, y_train, y_test, activation_functions)\u001b[0m\n\u001b[1;32m    102\u001b[0m     \u001b[0;32mfor\u001b[0m \u001b[0mactivation_function\u001b[0m \u001b[0;32min\u001b[0m \u001b[0mactivation_functions\u001b[0m\u001b[0;34m:\u001b[0m\u001b[0;34m\u001b[0m\u001b[0;34m\u001b[0m\u001b[0m\n\u001b[1;32m    103\u001b[0m         \u001b[0mprint\u001b[0m\u001b[0;34m(\u001b[0m\u001b[0;34mf\"Training with {activation_function} activation function...\"\u001b[0m\u001b[0;34m)\u001b[0m\u001b[0;34m\u001b[0m\u001b[0;34m\u001b[0m\u001b[0m\n\u001b[0;32m--> 104\u001b[0;31m         \u001b[0mW1\u001b[0m\u001b[0;34m,\u001b[0m \u001b[0mb1\u001b[0m\u001b[0;34m,\u001b[0m \u001b[0mW2\u001b[0m\u001b[0;34m,\u001b[0m \u001b[0mb2\u001b[0m\u001b[0;34m,\u001b[0m \u001b[0mlosses\u001b[0m \u001b[0;34m=\u001b[0m \u001b[0mtrain_neural_network\u001b[0m\u001b[0;34m(\u001b[0m\u001b[0mX_train\u001b[0m\u001b[0;34m,\u001b[0m \u001b[0my_train\u001b[0m\u001b[0;34m,\u001b[0m \u001b[0mhidden_size\u001b[0m\u001b[0;34m=\u001b[0m\u001b[0;36m10\u001b[0m\u001b[0;34m,\u001b[0m \u001b[0mepochs\u001b[0m\u001b[0;34m=\u001b[0m\u001b[0;36m1000\u001b[0m\u001b[0;34m,\u001b[0m \u001b[0mlearning_rate\u001b[0m\u001b[0;34m=\u001b[0m\u001b[0;36m0.01\u001b[0m\u001b[0;34m,\u001b[0m \u001b[0mactivation_function\u001b[0m\u001b[0;34m=\u001b[0m\u001b[0mactivation_function\u001b[0m\u001b[0;34m)\u001b[0m\u001b[0;34m\u001b[0m\u001b[0;34m\u001b[0m\u001b[0m\n\u001b[0m\u001b[1;32m    105\u001b[0m \u001b[0;34m\u001b[0m\u001b[0m\n\u001b[1;32m    106\u001b[0m         \u001b[0;31m# Plot the loss curve\u001b[0m\u001b[0;34m\u001b[0m\u001b[0;34m\u001b[0m\u001b[0m\n",
            "\u001b[0;32m<ipython-input-12-ea6849c4974b>\u001b[0m in \u001b[0;36mtrain_neural_network\u001b[0;34m(X_train, y_train, hidden_size, epochs, learning_rate, activation_function)\u001b[0m\n\u001b[1;32m     78\u001b[0m \u001b[0;34m\u001b[0m\u001b[0m\n\u001b[1;32m     79\u001b[0m         \u001b[0;31m# Backpropagation\u001b[0m\u001b[0;34m\u001b[0m\u001b[0;34m\u001b[0m\u001b[0m\n\u001b[0;32m---> 80\u001b[0;31m         \u001b[0mdW1\u001b[0m\u001b[0;34m,\u001b[0m \u001b[0mdb1\u001b[0m\u001b[0;34m,\u001b[0m \u001b[0mdW2\u001b[0m\u001b[0;34m,\u001b[0m \u001b[0mdb2\u001b[0m \u001b[0;34m=\u001b[0m \u001b[0mbackward_propagation\u001b[0m\u001b[0;34m(\u001b[0m\u001b[0mX_train\u001b[0m\u001b[0;34m,\u001b[0m \u001b[0my_train\u001b[0m\u001b[0;34m,\u001b[0m \u001b[0mW1\u001b[0m\u001b[0;34m,\u001b[0m \u001b[0mb1\u001b[0m\u001b[0;34m,\u001b[0m \u001b[0mW2\u001b[0m\u001b[0;34m,\u001b[0m \u001b[0mb2\u001b[0m\u001b[0;34m,\u001b[0m \u001b[0mZ1\u001b[0m\u001b[0;34m,\u001b[0m \u001b[0mA1\u001b[0m\u001b[0;34m,\u001b[0m \u001b[0mA2\u001b[0m\u001b[0;34m,\u001b[0m \u001b[0mactivation_function\u001b[0m\u001b[0;34m)\u001b[0m\u001b[0;34m\u001b[0m\u001b[0;34m\u001b[0m\u001b[0m\n\u001b[0m\u001b[1;32m     81\u001b[0m \u001b[0;34m\u001b[0m\u001b[0m\n\u001b[1;32m     82\u001b[0m         \u001b[0;31m# Update the weights and biases\u001b[0m\u001b[0;34m\u001b[0m\u001b[0;34m\u001b[0m\u001b[0m\n",
            "\u001b[0;32m<ipython-input-12-ea6849c4974b>\u001b[0m in \u001b[0;36mbackward_propagation\u001b[0;34m(X, y, W1, b1, W2, b2, Z1, A1, A2, activation_function)\u001b[0m\n\u001b[1;32m     45\u001b[0m     \u001b[0mm\u001b[0m \u001b[0;34m=\u001b[0m \u001b[0mX\u001b[0m\u001b[0;34m.\u001b[0m\u001b[0mshape\u001b[0m\u001b[0;34m[\u001b[0m\u001b[0;36m0\u001b[0m\u001b[0;34m]\u001b[0m\u001b[0;34m\u001b[0m\u001b[0;34m\u001b[0m\u001b[0m\n\u001b[1;32m     46\u001b[0m     \u001b[0mdZ2\u001b[0m \u001b[0;34m=\u001b[0m \u001b[0mA2\u001b[0m \u001b[0;34m-\u001b[0m \u001b[0my\u001b[0m\u001b[0;34m.\u001b[0m\u001b[0mreshape\u001b[0m\u001b[0;34m(\u001b[0m\u001b[0;34m-\u001b[0m\u001b[0;36m1\u001b[0m\u001b[0;34m,\u001b[0m \u001b[0;36m1\u001b[0m\u001b[0;34m)\u001b[0m  \u001b[0;31m# Gradient for output layer\u001b[0m\u001b[0;34m\u001b[0m\u001b[0;34m\u001b[0m\u001b[0m\n\u001b[0;32m---> 47\u001b[0;31m     \u001b[0mdW2\u001b[0m \u001b[0;34m=\u001b[0m \u001b[0mnp\u001b[0m\u001b[0;34m.\u001b[0m\u001b[0mdot\u001b[0m\u001b[0;34m(\u001b[0m\u001b[0mA1\u001b[0m\u001b[0;34m.\u001b[0m\u001b[0mT\u001b[0m\u001b[0;34m,\u001b[0m \u001b[0mdZ2\u001b[0m\u001b[0;34m)\u001b[0m \u001b[0;34m/\u001b[0m \u001b[0mm\u001b[0m\u001b[0;34m\u001b[0m\u001b[0;34m\u001b[0m\u001b[0m\n\u001b[0m\u001b[1;32m     48\u001b[0m     \u001b[0mdb2\u001b[0m \u001b[0;34m=\u001b[0m \u001b[0mnp\u001b[0m\u001b[0;34m.\u001b[0m\u001b[0msum\u001b[0m\u001b[0;34m(\u001b[0m\u001b[0mdZ2\u001b[0m\u001b[0;34m,\u001b[0m \u001b[0maxis\u001b[0m\u001b[0;34m=\u001b[0m\u001b[0;36m0\u001b[0m\u001b[0;34m,\u001b[0m \u001b[0mkeepdims\u001b[0m\u001b[0;34m=\u001b[0m\u001b[0;32mTrue\u001b[0m\u001b[0;34m)\u001b[0m \u001b[0;34m/\u001b[0m \u001b[0mm\u001b[0m\u001b[0;34m\u001b[0m\u001b[0;34m\u001b[0m\u001b[0m\n\u001b[1;32m     49\u001b[0m \u001b[0;34m\u001b[0m\u001b[0m\n",
            "\u001b[0;31mKeyboardInterrupt\u001b[0m: "
          ]
        }
      ]
    }
  ]
}